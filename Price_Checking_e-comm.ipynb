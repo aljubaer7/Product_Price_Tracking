{
 "cells": [
  {
   "cell_type": "markdown",
   "id": "0d720aa1",
   "metadata": {},
   "source": [
    "## Import"
   ]
  },
  {
   "cell_type": "code",
   "execution_count": 1,
   "id": "e735857b",
   "metadata": {},
   "outputs": [],
   "source": [
    "from selenium import webdriver\n",
    "from selenium.webdriver.common.by import By\n",
    "from selenium.webdriver.chrome.service import Service\n",
    "from selenium.webdriver.chrome.options import Options\n",
    "from webdriver_manager.chrome import ChromeDriverManager\n",
    "from fake_useragent import UserAgent\n",
    "import pandas as pd\n",
    "import time\n",
    "from time import sleep\n",
    "from datetime import date"
   ]
  },
  {
   "cell_type": "markdown",
   "id": "df0af78f",
   "metadata": {},
   "source": [
    "## ChromeDriver & Headers"
   ]
  },
  {
   "cell_type": "code",
   "execution_count": 2,
   "id": "4701b556",
   "metadata": {},
   "outputs": [],
   "source": [
    "options = Options()\n",
    "options.add_experimental_option(\"detach\", True)\n",
    "headers = {\"User-Agent\" : \"Mozilla/5.0 (Windows NT 10.0; Win64; x64) AppleWebKit/537.36 (KHTML, like Gecko) Chrome/124.0.0.0 Safari/537.36\"}\n",
    "service = Service(executable_path=\"chromedriver.exe\")\n",
    "driver = webdriver.Chrome(service=Service(ChromeDriverManager().install()), options=options)\n",
    "time.sleep(1)"
   ]
  },
  {
   "cell_type": "markdown",
   "id": "6e73074f",
   "metadata": {},
   "source": [
    "## Waiting Mechanism"
   ]
  },
  {
   "cell_type": "code",
   "execution_count": 3,
   "id": "dcea5650",
   "metadata": {},
   "outputs": [],
   "source": [
    "from selenium.webdriver.support.ui import WebDriverWait\n",
    "from selenium.webdriver.support import expected_conditions as EC\n",
    "wait = WebDriverWait(driver, 55)  # 55 seconds timeout"
   ]
  },
  {
   "cell_type": "code",
   "execution_count": 9,
   "id": "b43a4a2e",
   "metadata": {},
   "outputs": [],
   "source": [
    "#Empty Lists to store product informations\n",
    "dates = []\n",
    "names = []\n",
    "prices = []"
   ]
  },
  {
   "cell_type": "markdown",
   "id": "a4f29cd5",
   "metadata": {},
   "source": [
    "## Define a function that will collect product informations by taking product ID"
   ]
  },
  {
   "cell_type": "code",
   "execution_count": 14,
   "id": "91594cb0",
   "metadata": {},
   "outputs": [],
   "source": [
    "def p_check(code,model):\n",
    "    driver.get('https://www.e-commerce.com') # Go to the website\n",
    "    \n",
    "    # Wait untill the page loads\n",
    "    wait.until(EC.element_to_be_clickable((By.XPATH, '//div[@class=\"ac search-toggler\"]/i')))\n",
    "    search = driver.find_element(By.XPATH, '//div[@class=\"ac search-toggler\"]/i')\n",
    "    search.click()\n",
    "    input_field = driver.find_element(By.XPATH, '//input[@placeholder=\"Search\"]')\n",
    "    \n",
    "    # Search the product by code\n",
    "    input_field.send_keys(code)\n",
    "    wait.until(EC.element_to_be_clickable((By.XPATH, '//button[@class=\"material-icons\"]')))\n",
    "    result = driver.find_element(By.XPATH, '//button[@class=\"material-icons\"]')\n",
    "    result.click()\n",
    "    \n",
    "    # Get the specfiq product from search result\n",
    "    wait.until(EC.element_to_be_clickable((By.XPATH, '//div[@class=\"p-item-details\"]/h4/a')))\n",
    "    url = driver.find_element(By.XPATH, '//div[@class=\"p-item-details\"]/h4/a')\n",
    "    url.click()\n",
    "    \n",
    "    # Match with the desired product\n",
    "    p_model = driver.find_element(By.XPATH, '//*[@id=\"product\"]/div/div[2]/ul/li[1]').text\n",
    "    if p_model == model:\n",
    "        # Check if the product is in stock\n",
    "        try:\n",
    "            check = driver.find_element(By.XPATH, '//div[@class=\"container__wrapper4\"]/div').text\n",
    "            if check == 'Out of Stock':\n",
    "                prices.append('Out of Stock')\n",
    "            else:\n",
    "                #pass\n",
    "        except:\n",
    "            # Record current date\n",
    "            dt = dates.append(date.today())\n",
    "            # Product name\n",
    "            name = driver.find_element(By.XPATH, '//h1[@class=\"product-name\"]').text \n",
    "            names.append(name)\n",
    "            # Product price\n",
    "            price = driver.find_element(By.XPATH, '//*[@id=\"product\"]/div/div[1]/table/tbody/tr[1]/td[2]/ins').text.rstrip('৳')\n",
    "            prices.append(price)\n",
    "    else:\n",
    "        print('Product Unavailable')\n",
    "        prices.append('NA') # In case desired product is unavailable"
   ]
  },
  {
   "cell_type": "markdown",
   "id": "f40166b3",
   "metadata": {},
   "source": [
    "## Just give the product code and model number to execute the function"
   ]
  },
  {
   "cell_type": "code",
   "execution_count": 18,
   "id": "82aaf32d",
   "metadata": {
    "scrolled": false
   },
   "outputs": [],
   "source": [
    "p_check(24216,'Model: Ryzen 7 7700X')# Product 1\n",
    "p_check(34983,'Model: PRO MP225')#Product 2\n",
    "p_check(16116,'Model: RTX 3060 VENTUS 2X OC')# Product 3"
   ]
  },
  {
   "cell_type": "code",
   "execution_count": 19,
   "id": "76ff78c4",
   "metadata": {},
   "outputs": [
    {
     "data": {
      "text/html": [
       "<div>\n",
       "<style scoped>\n",
       "    .dataframe tbody tr th:only-of-type {\n",
       "        vertical-align: middle;\n",
       "    }\n",
       "\n",
       "    .dataframe tbody tr th {\n",
       "        vertical-align: top;\n",
       "    }\n",
       "\n",
       "    .dataframe thead th {\n",
       "        text-align: right;\n",
       "    }\n",
       "</style>\n",
       "<table border=\"1\" class=\"dataframe\">\n",
       "  <thead>\n",
       "    <tr style=\"text-align: right;\">\n",
       "      <th></th>\n",
       "      <th>Date</th>\n",
       "      <th>Name</th>\n",
       "      <th>Price</th>\n",
       "    </tr>\n",
       "  </thead>\n",
       "  <tbody>\n",
       "    <tr>\n",
       "      <th>0</th>\n",
       "      <td>2024-06-08</td>\n",
       "      <td>AMD Ryzen 7 7700X Processor</td>\n",
       "      <td>35,000</td>\n",
       "    </tr>\n",
       "    <tr>\n",
       "      <th>1</th>\n",
       "      <td>2024-06-08</td>\n",
       "      <td>MSI PRO MP225 21.5\" 100Hz IPS FHD Monitor</td>\n",
       "      <td>10,900</td>\n",
       "    </tr>\n",
       "    <tr>\n",
       "      <th>2</th>\n",
       "      <td>2024-06-08</td>\n",
       "      <td>MSI GeForce RTX 3060 VENTUS 2X OC 12GB Graphic...</td>\n",
       "      <td>38,800</td>\n",
       "    </tr>\n",
       "  </tbody>\n",
       "</table>\n",
       "</div>"
      ],
      "text/plain": [
       "         Date                                               Name   Price\n",
       "0  2024-06-08                        AMD Ryzen 7 7700X Processor  35,000\n",
       "1  2024-06-08          MSI PRO MP225 21.5\" 100Hz IPS FHD Monitor  10,900\n",
       "2  2024-06-08  MSI GeForce RTX 3060 VENTUS 2X OC 12GB Graphic...  38,800"
      ]
     },
     "execution_count": 19,
     "metadata": {},
     "output_type": "execute_result"
    }
   ],
   "source": [
    "# Add the data to DataFrame\n",
    "df = pd.DataFrame({'Date': dates, 'Name': names, 'Price': prices})\n",
    "df"
   ]
  },
  {
   "cell_type": "code",
   "execution_count": 20,
   "id": "1bd48b5c",
   "metadata": {},
   "outputs": [],
   "source": [
    "# Save as excel file\n",
    "df.to_excel('Price_Tracking.xlsx', index=False)"
   ]
  }
 ],
 "metadata": {
  "kernelspec": {
   "display_name": "Python 3 (ipykernel)",
   "language": "python",
   "name": "python3"
  },
  "language_info": {
   "codemirror_mode": {
    "name": "ipython",
    "version": 3
   },
   "file_extension": ".py",
   "mimetype": "text/x-python",
   "name": "python",
   "nbconvert_exporter": "python",
   "pygments_lexer": "ipython3",
   "version": "3.11.5"
  }
 },
 "nbformat": 4,
 "nbformat_minor": 5
}
